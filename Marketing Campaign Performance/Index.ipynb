{
 "cells": [
  {
   "cell_type": "code",
   "execution_count": 3,
   "metadata": {},
   "outputs": [],
   "source": [
    "import pandas as pd\n",
    "import numpy as np\n",
    "import matplotlib.pyplot as plt\n",
    "import seaborn as sns"
   ]
  },
  {
   "cell_type": "markdown",
   "metadata": {},
   "source": [
    "### Load Data"
   ]
  },
  {
   "cell_type": "code",
   "execution_count": 4,
   "metadata": {},
   "outputs": [],
   "source": [
    "df = pd.read_csv(\"marketing_campaign_dataset.csv\")"
   ]
  },
  {
   "cell_type": "markdown",
   "metadata": {},
   "source": [
    "### Show the Data"
   ]
  },
  {
   "cell_type": "code",
   "execution_count": 5,
   "metadata": {},
   "outputs": [
    {
     "data": {
      "text/html": [
       "<div>\n",
       "<style scoped>\n",
       "    .dataframe tbody tr th:only-of-type {\n",
       "        vertical-align: middle;\n",
       "    }\n",
       "\n",
       "    .dataframe tbody tr th {\n",
       "        vertical-align: top;\n",
       "    }\n",
       "\n",
       "    .dataframe thead th {\n",
       "        text-align: right;\n",
       "    }\n",
       "</style>\n",
       "<table border=\"1\" class=\"dataframe\">\n",
       "  <thead>\n",
       "    <tr style=\"text-align: right;\">\n",
       "      <th></th>\n",
       "      <th>Campaign_ID</th>\n",
       "      <th>Company</th>\n",
       "      <th>Campaign_Type</th>\n",
       "      <th>Target_Audience</th>\n",
       "      <th>Duration</th>\n",
       "      <th>Channel_Used</th>\n",
       "      <th>Conversion_Rate</th>\n",
       "      <th>Acquisition_Cost</th>\n",
       "      <th>ROI</th>\n",
       "      <th>Location</th>\n",
       "      <th>Language</th>\n",
       "      <th>Clicks</th>\n",
       "      <th>Impressions</th>\n",
       "      <th>Engagement_Score</th>\n",
       "      <th>Customer_Segment</th>\n",
       "      <th>Date</th>\n",
       "    </tr>\n",
       "  </thead>\n",
       "  <tbody>\n",
       "    <tr>\n",
       "      <th>0</th>\n",
       "      <td>1</td>\n",
       "      <td>Innovate Industries</td>\n",
       "      <td>Email</td>\n",
       "      <td>Men 18-24</td>\n",
       "      <td>30 days</td>\n",
       "      <td>Google Ads</td>\n",
       "      <td>0.04</td>\n",
       "      <td>$16,174.00</td>\n",
       "      <td>6.29</td>\n",
       "      <td>Chicago</td>\n",
       "      <td>Spanish</td>\n",
       "      <td>506</td>\n",
       "      <td>1922</td>\n",
       "      <td>6</td>\n",
       "      <td>Health &amp; Wellness</td>\n",
       "      <td>2021-01-01</td>\n",
       "    </tr>\n",
       "    <tr>\n",
       "      <th>1</th>\n",
       "      <td>2</td>\n",
       "      <td>NexGen Systems</td>\n",
       "      <td>Email</td>\n",
       "      <td>Women 35-44</td>\n",
       "      <td>60 days</td>\n",
       "      <td>Google Ads</td>\n",
       "      <td>0.12</td>\n",
       "      <td>$11,566.00</td>\n",
       "      <td>5.61</td>\n",
       "      <td>New York</td>\n",
       "      <td>German</td>\n",
       "      <td>116</td>\n",
       "      <td>7523</td>\n",
       "      <td>7</td>\n",
       "      <td>Fashionistas</td>\n",
       "      <td>2021-01-02</td>\n",
       "    </tr>\n",
       "    <tr>\n",
       "      <th>2</th>\n",
       "      <td>3</td>\n",
       "      <td>Alpha Innovations</td>\n",
       "      <td>Influencer</td>\n",
       "      <td>Men 25-34</td>\n",
       "      <td>30 days</td>\n",
       "      <td>YouTube</td>\n",
       "      <td>0.07</td>\n",
       "      <td>$10,200.00</td>\n",
       "      <td>7.18</td>\n",
       "      <td>Los Angeles</td>\n",
       "      <td>French</td>\n",
       "      <td>584</td>\n",
       "      <td>7698</td>\n",
       "      <td>1</td>\n",
       "      <td>Outdoor Adventurers</td>\n",
       "      <td>2021-01-03</td>\n",
       "    </tr>\n",
       "    <tr>\n",
       "      <th>3</th>\n",
       "      <td>4</td>\n",
       "      <td>DataTech Solutions</td>\n",
       "      <td>Display</td>\n",
       "      <td>All Ages</td>\n",
       "      <td>60 days</td>\n",
       "      <td>YouTube</td>\n",
       "      <td>0.11</td>\n",
       "      <td>$12,724.00</td>\n",
       "      <td>5.55</td>\n",
       "      <td>Miami</td>\n",
       "      <td>Mandarin</td>\n",
       "      <td>217</td>\n",
       "      <td>1820</td>\n",
       "      <td>7</td>\n",
       "      <td>Health &amp; Wellness</td>\n",
       "      <td>2021-01-04</td>\n",
       "    </tr>\n",
       "    <tr>\n",
       "      <th>4</th>\n",
       "      <td>5</td>\n",
       "      <td>NexGen Systems</td>\n",
       "      <td>Email</td>\n",
       "      <td>Men 25-34</td>\n",
       "      <td>15 days</td>\n",
       "      <td>YouTube</td>\n",
       "      <td>0.05</td>\n",
       "      <td>$16,452.00</td>\n",
       "      <td>6.50</td>\n",
       "      <td>Los Angeles</td>\n",
       "      <td>Mandarin</td>\n",
       "      <td>379</td>\n",
       "      <td>4201</td>\n",
       "      <td>3</td>\n",
       "      <td>Health &amp; Wellness</td>\n",
       "      <td>2021-01-05</td>\n",
       "    </tr>\n",
       "    <tr>\n",
       "      <th>...</th>\n",
       "      <td>...</td>\n",
       "      <td>...</td>\n",
       "      <td>...</td>\n",
       "      <td>...</td>\n",
       "      <td>...</td>\n",
       "      <td>...</td>\n",
       "      <td>...</td>\n",
       "      <td>...</td>\n",
       "      <td>...</td>\n",
       "      <td>...</td>\n",
       "      <td>...</td>\n",
       "      <td>...</td>\n",
       "      <td>...</td>\n",
       "      <td>...</td>\n",
       "      <td>...</td>\n",
       "      <td>...</td>\n",
       "    </tr>\n",
       "    <tr>\n",
       "      <th>199995</th>\n",
       "      <td>199996</td>\n",
       "      <td>TechCorp</td>\n",
       "      <td>Display</td>\n",
       "      <td>All Ages</td>\n",
       "      <td>30 days</td>\n",
       "      <td>Google Ads</td>\n",
       "      <td>0.06</td>\n",
       "      <td>$18,365.00</td>\n",
       "      <td>2.84</td>\n",
       "      <td>Chicago</td>\n",
       "      <td>German</td>\n",
       "      <td>858</td>\n",
       "      <td>5988</td>\n",
       "      <td>1</td>\n",
       "      <td>Tech Enthusiasts</td>\n",
       "      <td>2021-12-07</td>\n",
       "    </tr>\n",
       "    <tr>\n",
       "      <th>199996</th>\n",
       "      <td>199997</td>\n",
       "      <td>DataTech Solutions</td>\n",
       "      <td>Email</td>\n",
       "      <td>Men 25-34</td>\n",
       "      <td>15 days</td>\n",
       "      <td>Facebook</td>\n",
       "      <td>0.02</td>\n",
       "      <td>$8,168.00</td>\n",
       "      <td>4.14</td>\n",
       "      <td>Chicago</td>\n",
       "      <td>Spanish</td>\n",
       "      <td>228</td>\n",
       "      <td>3068</td>\n",
       "      <td>7</td>\n",
       "      <td>Foodies</td>\n",
       "      <td>2021-12-08</td>\n",
       "    </tr>\n",
       "    <tr>\n",
       "      <th>199997</th>\n",
       "      <td>199998</td>\n",
       "      <td>DataTech Solutions</td>\n",
       "      <td>Social Media</td>\n",
       "      <td>Men 18-24</td>\n",
       "      <td>45 days</td>\n",
       "      <td>Website</td>\n",
       "      <td>0.05</td>\n",
       "      <td>$13,397.00</td>\n",
       "      <td>3.25</td>\n",
       "      <td>New York</td>\n",
       "      <td>Mandarin</td>\n",
       "      <td>723</td>\n",
       "      <td>9548</td>\n",
       "      <td>3</td>\n",
       "      <td>Tech Enthusiasts</td>\n",
       "      <td>2021-12-09</td>\n",
       "    </tr>\n",
       "    <tr>\n",
       "      <th>199998</th>\n",
       "      <td>199999</td>\n",
       "      <td>Innovate Industries</td>\n",
       "      <td>Influencer</td>\n",
       "      <td>All Ages</td>\n",
       "      <td>30 days</td>\n",
       "      <td>YouTube</td>\n",
       "      <td>0.10</td>\n",
       "      <td>$18,508.00</td>\n",
       "      <td>3.86</td>\n",
       "      <td>Houston</td>\n",
       "      <td>French</td>\n",
       "      <td>528</td>\n",
       "      <td>2763</td>\n",
       "      <td>1</td>\n",
       "      <td>Foodies</td>\n",
       "      <td>2021-12-10</td>\n",
       "    </tr>\n",
       "    <tr>\n",
       "      <th>199999</th>\n",
       "      <td>200000</td>\n",
       "      <td>Innovate Industries</td>\n",
       "      <td>Social Media</td>\n",
       "      <td>Women 35-44</td>\n",
       "      <td>45 days</td>\n",
       "      <td>Google Ads</td>\n",
       "      <td>0.01</td>\n",
       "      <td>$13,835.00</td>\n",
       "      <td>6.64</td>\n",
       "      <td>Chicago</td>\n",
       "      <td>Spanish</td>\n",
       "      <td>924</td>\n",
       "      <td>7287</td>\n",
       "      <td>8</td>\n",
       "      <td>Tech Enthusiasts</td>\n",
       "      <td>2021-12-11</td>\n",
       "    </tr>\n",
       "  </tbody>\n",
       "</table>\n",
       "<p>200000 rows × 16 columns</p>\n",
       "</div>"
      ],
      "text/plain": [
       "        Campaign_ID              Company Campaign_Type Target_Audience  \\\n",
       "0                 1  Innovate Industries         Email       Men 18-24   \n",
       "1                 2       NexGen Systems         Email     Women 35-44   \n",
       "2                 3    Alpha Innovations    Influencer       Men 25-34   \n",
       "3                 4   DataTech Solutions       Display        All Ages   \n",
       "4                 5       NexGen Systems         Email       Men 25-34   \n",
       "...             ...                  ...           ...             ...   \n",
       "199995       199996             TechCorp       Display        All Ages   \n",
       "199996       199997   DataTech Solutions         Email       Men 25-34   \n",
       "199997       199998   DataTech Solutions  Social Media       Men 18-24   \n",
       "199998       199999  Innovate Industries    Influencer        All Ages   \n",
       "199999       200000  Innovate Industries  Social Media     Women 35-44   \n",
       "\n",
       "       Duration Channel_Used  Conversion_Rate Acquisition_Cost   ROI  \\\n",
       "0       30 days   Google Ads             0.04       $16,174.00  6.29   \n",
       "1       60 days   Google Ads             0.12       $11,566.00  5.61   \n",
       "2       30 days      YouTube             0.07       $10,200.00  7.18   \n",
       "3       60 days      YouTube             0.11       $12,724.00  5.55   \n",
       "4       15 days      YouTube             0.05       $16,452.00  6.50   \n",
       "...         ...          ...              ...              ...   ...   \n",
       "199995  30 days   Google Ads             0.06       $18,365.00  2.84   \n",
       "199996  15 days     Facebook             0.02        $8,168.00  4.14   \n",
       "199997  45 days      Website             0.05       $13,397.00  3.25   \n",
       "199998  30 days      YouTube             0.10       $18,508.00  3.86   \n",
       "199999  45 days   Google Ads             0.01       $13,835.00  6.64   \n",
       "\n",
       "           Location  Language  Clicks  Impressions  Engagement_Score  \\\n",
       "0           Chicago   Spanish     506         1922                 6   \n",
       "1          New York    German     116         7523                 7   \n",
       "2       Los Angeles    French     584         7698                 1   \n",
       "3             Miami  Mandarin     217         1820                 7   \n",
       "4       Los Angeles  Mandarin     379         4201                 3   \n",
       "...             ...       ...     ...          ...               ...   \n",
       "199995      Chicago    German     858         5988                 1   \n",
       "199996      Chicago   Spanish     228         3068                 7   \n",
       "199997     New York  Mandarin     723         9548                 3   \n",
       "199998      Houston    French     528         2763                 1   \n",
       "199999      Chicago   Spanish     924         7287                 8   \n",
       "\n",
       "           Customer_Segment        Date  \n",
       "0         Health & Wellness  2021-01-01  \n",
       "1              Fashionistas  2021-01-02  \n",
       "2       Outdoor Adventurers  2021-01-03  \n",
       "3         Health & Wellness  2021-01-04  \n",
       "4         Health & Wellness  2021-01-05  \n",
       "...                     ...         ...  \n",
       "199995     Tech Enthusiasts  2021-12-07  \n",
       "199996              Foodies  2021-12-08  \n",
       "199997     Tech Enthusiasts  2021-12-09  \n",
       "199998              Foodies  2021-12-10  \n",
       "199999     Tech Enthusiasts  2021-12-11  \n",
       "\n",
       "[200000 rows x 16 columns]"
      ]
     },
     "execution_count": 5,
     "metadata": {},
     "output_type": "execute_result"
    }
   ],
   "source": [
    "df"
   ]
  },
  {
   "cell_type": "code",
   "execution_count": 6,
   "metadata": {},
   "outputs": [
    {
     "data": {
      "text/plain": [
       "(200000, 16)"
      ]
     },
     "execution_count": 6,
     "metadata": {},
     "output_type": "execute_result"
    }
   ],
   "source": [
    "df.shape"
   ]
  },
  {
   "cell_type": "markdown",
   "metadata": {},
   "source": [
    "### Analysize Short Overview About the Dataset"
   ]
  },
  {
   "cell_type": "code",
   "execution_count": 7,
   "metadata": {},
   "outputs": [
    {
     "name": "stdout",
     "output_type": "stream",
     "text": [
      "<class 'pandas.core.frame.DataFrame'>\n",
      "RangeIndex: 200000 entries, 0 to 199999\n",
      "Data columns (total 16 columns):\n",
      " #   Column            Non-Null Count   Dtype  \n",
      "---  ------            --------------   -----  \n",
      " 0   Campaign_ID       200000 non-null  int64  \n",
      " 1   Company           200000 non-null  object \n",
      " 2   Campaign_Type     200000 non-null  object \n",
      " 3   Target_Audience   200000 non-null  object \n",
      " 4   Duration          200000 non-null  object \n",
      " 5   Channel_Used      200000 non-null  object \n",
      " 6   Conversion_Rate   200000 non-null  float64\n",
      " 7   Acquisition_Cost  200000 non-null  object \n",
      " 8   ROI               200000 non-null  float64\n",
      " 9   Location          200000 non-null  object \n",
      " 10  Language          200000 non-null  object \n",
      " 11  Clicks            200000 non-null  int64  \n",
      " 12  Impressions       200000 non-null  int64  \n",
      " 13  Engagement_Score  200000 non-null  int64  \n",
      " 14  Customer_Segment  200000 non-null  object \n",
      " 15  Date              200000 non-null  object \n",
      "dtypes: float64(2), int64(4), object(10)\n",
      "memory usage: 24.4+ MB\n"
     ]
    }
   ],
   "source": [
    "df.info()"
   ]
  },
  {
   "cell_type": "markdown",
   "metadata": {},
   "source": [
    "### Check Any Dublicated Values Available in the Data Set"
   ]
  },
  {
   "cell_type": "code",
   "execution_count": 8,
   "metadata": {},
   "outputs": [
    {
     "data": {
      "text/plain": [
       "0"
      ]
     },
     "execution_count": 8,
     "metadata": {},
     "output_type": "execute_result"
    }
   ],
   "source": [
    "df.duplicated().sum()"
   ]
  },
  {
   "cell_type": "markdown",
   "metadata": {},
   "source": [
    "### Short Overview by Numrical Columns"
   ]
  },
  {
   "cell_type": "code",
   "execution_count": 10,
   "metadata": {},
   "outputs": [
    {
     "data": {
      "text/html": [
       "<div>\n",
       "<style scoped>\n",
       "    .dataframe tbody tr th:only-of-type {\n",
       "        vertical-align: middle;\n",
       "    }\n",
       "\n",
       "    .dataframe tbody tr th {\n",
       "        vertical-align: top;\n",
       "    }\n",
       "\n",
       "    .dataframe thead th {\n",
       "        text-align: right;\n",
       "    }\n",
       "</style>\n",
       "<table border=\"1\" class=\"dataframe\">\n",
       "  <thead>\n",
       "    <tr style=\"text-align: right;\">\n",
       "      <th></th>\n",
       "      <th>Campaign_ID</th>\n",
       "      <th>Conversion_Rate</th>\n",
       "      <th>ROI</th>\n",
       "      <th>Clicks</th>\n",
       "      <th>Impressions</th>\n",
       "      <th>Engagement_Score</th>\n",
       "    </tr>\n",
       "  </thead>\n",
       "  <tbody>\n",
       "    <tr>\n",
       "      <th>count</th>\n",
       "      <td>200000.000000</td>\n",
       "      <td>200000.000000</td>\n",
       "      <td>200000.000000</td>\n",
       "      <td>200000.000000</td>\n",
       "      <td>200000.000000</td>\n",
       "      <td>200000.000000</td>\n",
       "    </tr>\n",
       "    <tr>\n",
       "      <th>mean</th>\n",
       "      <td>100000.500000</td>\n",
       "      <td>0.080070</td>\n",
       "      <td>5.002438</td>\n",
       "      <td>549.772030</td>\n",
       "      <td>5507.301520</td>\n",
       "      <td>5.494710</td>\n",
       "    </tr>\n",
       "    <tr>\n",
       "      <th>std</th>\n",
       "      <td>57735.171256</td>\n",
       "      <td>0.040602</td>\n",
       "      <td>1.734488</td>\n",
       "      <td>260.019056</td>\n",
       "      <td>2596.864286</td>\n",
       "      <td>2.872581</td>\n",
       "    </tr>\n",
       "    <tr>\n",
       "      <th>min</th>\n",
       "      <td>1.000000</td>\n",
       "      <td>0.010000</td>\n",
       "      <td>2.000000</td>\n",
       "      <td>100.000000</td>\n",
       "      <td>1000.000000</td>\n",
       "      <td>1.000000</td>\n",
       "    </tr>\n",
       "    <tr>\n",
       "      <th>25%</th>\n",
       "      <td>50000.750000</td>\n",
       "      <td>0.050000</td>\n",
       "      <td>3.500000</td>\n",
       "      <td>325.000000</td>\n",
       "      <td>3266.000000</td>\n",
       "      <td>3.000000</td>\n",
       "    </tr>\n",
       "    <tr>\n",
       "      <th>50%</th>\n",
       "      <td>100000.500000</td>\n",
       "      <td>0.080000</td>\n",
       "      <td>5.010000</td>\n",
       "      <td>550.000000</td>\n",
       "      <td>5517.500000</td>\n",
       "      <td>5.000000</td>\n",
       "    </tr>\n",
       "    <tr>\n",
       "      <th>75%</th>\n",
       "      <td>150000.250000</td>\n",
       "      <td>0.120000</td>\n",
       "      <td>6.510000</td>\n",
       "      <td>775.000000</td>\n",
       "      <td>7753.000000</td>\n",
       "      <td>8.000000</td>\n",
       "    </tr>\n",
       "    <tr>\n",
       "      <th>max</th>\n",
       "      <td>200000.000000</td>\n",
       "      <td>0.150000</td>\n",
       "      <td>8.000000</td>\n",
       "      <td>1000.000000</td>\n",
       "      <td>10000.000000</td>\n",
       "      <td>10.000000</td>\n",
       "    </tr>\n",
       "  </tbody>\n",
       "</table>\n",
       "</div>"
      ],
      "text/plain": [
       "         Campaign_ID  Conversion_Rate            ROI         Clicks  \\\n",
       "count  200000.000000    200000.000000  200000.000000  200000.000000   \n",
       "mean   100000.500000         0.080070       5.002438     549.772030   \n",
       "std     57735.171256         0.040602       1.734488     260.019056   \n",
       "min         1.000000         0.010000       2.000000     100.000000   \n",
       "25%     50000.750000         0.050000       3.500000     325.000000   \n",
       "50%    100000.500000         0.080000       5.010000     550.000000   \n",
       "75%    150000.250000         0.120000       6.510000     775.000000   \n",
       "max    200000.000000         0.150000       8.000000    1000.000000   \n",
       "\n",
       "         Impressions  Engagement_Score  \n",
       "count  200000.000000     200000.000000  \n",
       "mean     5507.301520          5.494710  \n",
       "std      2596.864286          2.872581  \n",
       "min      1000.000000          1.000000  \n",
       "25%      3266.000000          3.000000  \n",
       "50%      5517.500000          5.000000  \n",
       "75%      7753.000000          8.000000  \n",
       "max     10000.000000         10.000000  "
      ]
     },
     "execution_count": 10,
     "metadata": {},
     "output_type": "execute_result"
    }
   ],
   "source": [
    "df.describe()"
   ]
  },
  {
   "cell_type": "markdown",
   "metadata": {},
   "source": [
    "### Drop Unwanted Columns"
   ]
  },
  {
   "cell_type": "code",
   "execution_count": 11,
   "metadata": {},
   "outputs": [],
   "source": [
    "df = df.drop(columns=[\"Campaign_ID\"], axis=1)"
   ]
  },
  {
   "cell_type": "code",
   "execution_count": null,
   "metadata": {},
   "outputs": [
    {
     "data": {
      "text/html": [
       "<div>\n",
       "<style scoped>\n",
       "    .dataframe tbody tr th:only-of-type {\n",
       "        vertical-align: middle;\n",
       "    }\n",
       "\n",
       "    .dataframe tbody tr th {\n",
       "        vertical-align: top;\n",
       "    }\n",
       "\n",
       "    .dataframe thead th {\n",
       "        text-align: right;\n",
       "    }\n",
       "</style>\n",
       "<table border=\"1\" class=\"dataframe\">\n",
       "  <thead>\n",
       "    <tr style=\"text-align: right;\">\n",
       "      <th></th>\n",
       "      <th>Company</th>\n",
       "      <th>Campaign_Type</th>\n",
       "      <th>Target_Audience</th>\n",
       "      <th>Duration</th>\n",
       "      <th>Channel_Used</th>\n",
       "      <th>Conversion_Rate</th>\n",
       "      <th>Acquisition_Cost</th>\n",
       "      <th>ROI</th>\n",
       "      <th>Location</th>\n",
       "      <th>Language</th>\n",
       "      <th>Clicks</th>\n",
       "      <th>Impressions</th>\n",
       "      <th>Engagement_Score</th>\n",
       "      <th>Customer_Segment</th>\n",
       "      <th>Date</th>\n",
       "    </tr>\n",
       "  </thead>\n",
       "  <tbody>\n",
       "    <tr>\n",
       "      <th>0</th>\n",
       "      <td>Innovate Industries</td>\n",
       "      <td>Email</td>\n",
       "      <td>Men 18-24</td>\n",
       "      <td>30 days</td>\n",
       "      <td>Google Ads</td>\n",
       "      <td>0.04</td>\n",
       "      <td>$16,174.00</td>\n",
       "      <td>6.29</td>\n",
       "      <td>Chicago</td>\n",
       "      <td>Spanish</td>\n",
       "      <td>506</td>\n",
       "      <td>1922</td>\n",
       "      <td>6</td>\n",
       "      <td>Health &amp; Wellness</td>\n",
       "      <td>2021-01-01</td>\n",
       "    </tr>\n",
       "    <tr>\n",
       "      <th>1</th>\n",
       "      <td>NexGen Systems</td>\n",
       "      <td>Email</td>\n",
       "      <td>Women 35-44</td>\n",
       "      <td>60 days</td>\n",
       "      <td>Google Ads</td>\n",
       "      <td>0.12</td>\n",
       "      <td>$11,566.00</td>\n",
       "      <td>5.61</td>\n",
       "      <td>New York</td>\n",
       "      <td>German</td>\n",
       "      <td>116</td>\n",
       "      <td>7523</td>\n",
       "      <td>7</td>\n",
       "      <td>Fashionistas</td>\n",
       "      <td>2021-01-02</td>\n",
       "    </tr>\n",
       "    <tr>\n",
       "      <th>2</th>\n",
       "      <td>Alpha Innovations</td>\n",
       "      <td>Influencer</td>\n",
       "      <td>Men 25-34</td>\n",
       "      <td>30 days</td>\n",
       "      <td>YouTube</td>\n",
       "      <td>0.07</td>\n",
       "      <td>$10,200.00</td>\n",
       "      <td>7.18</td>\n",
       "      <td>Los Angeles</td>\n",
       "      <td>French</td>\n",
       "      <td>584</td>\n",
       "      <td>7698</td>\n",
       "      <td>1</td>\n",
       "      <td>Outdoor Adventurers</td>\n",
       "      <td>2021-01-03</td>\n",
       "    </tr>\n",
       "    <tr>\n",
       "      <th>3</th>\n",
       "      <td>DataTech Solutions</td>\n",
       "      <td>Display</td>\n",
       "      <td>All Ages</td>\n",
       "      <td>60 days</td>\n",
       "      <td>YouTube</td>\n",
       "      <td>0.11</td>\n",
       "      <td>$12,724.00</td>\n",
       "      <td>5.55</td>\n",
       "      <td>Miami</td>\n",
       "      <td>Mandarin</td>\n",
       "      <td>217</td>\n",
       "      <td>1820</td>\n",
       "      <td>7</td>\n",
       "      <td>Health &amp; Wellness</td>\n",
       "      <td>2021-01-04</td>\n",
       "    </tr>\n",
       "    <tr>\n",
       "      <th>4</th>\n",
       "      <td>NexGen Systems</td>\n",
       "      <td>Email</td>\n",
       "      <td>Men 25-34</td>\n",
       "      <td>15 days</td>\n",
       "      <td>YouTube</td>\n",
       "      <td>0.05</td>\n",
       "      <td>$16,452.00</td>\n",
       "      <td>6.50</td>\n",
       "      <td>Los Angeles</td>\n",
       "      <td>Mandarin</td>\n",
       "      <td>379</td>\n",
       "      <td>4201</td>\n",
       "      <td>3</td>\n",
       "      <td>Health &amp; Wellness</td>\n",
       "      <td>2021-01-05</td>\n",
       "    </tr>\n",
       "  </tbody>\n",
       "</table>\n",
       "</div>"
      ],
      "text/plain": [
       "               Company Campaign_Type Target_Audience Duration Channel_Used  \\\n",
       "0  Innovate Industries         Email       Men 18-24  30 days   Google Ads   \n",
       "1       NexGen Systems         Email     Women 35-44  60 days   Google Ads   \n",
       "2    Alpha Innovations    Influencer       Men 25-34  30 days      YouTube   \n",
       "3   DataTech Solutions       Display        All Ages  60 days      YouTube   \n",
       "4       NexGen Systems         Email       Men 25-34  15 days      YouTube   \n",
       "\n",
       "   Conversion_Rate Acquisition_Cost   ROI     Location  Language  Clicks  \\\n",
       "0             0.04       $16,174.00  6.29      Chicago   Spanish     506   \n",
       "1             0.12       $11,566.00  5.61     New York    German     116   \n",
       "2             0.07       $10,200.00  7.18  Los Angeles    French     584   \n",
       "3             0.11       $12,724.00  5.55        Miami  Mandarin     217   \n",
       "4             0.05       $16,452.00  6.50  Los Angeles  Mandarin     379   \n",
       "\n",
       "   Impressions  Engagement_Score     Customer_Segment        Date  \n",
       "0         1922                 6    Health & Wellness  2021-01-01  \n",
       "1         7523                 7         Fashionistas  2021-01-02  \n",
       "2         7698                 1  Outdoor Adventurers  2021-01-03  \n",
       "3         1820                 7    Health & Wellness  2021-01-04  \n",
       "4         4201                 3    Health & Wellness  2021-01-05  "
      ]
     },
     "execution_count": 14,
     "metadata": {},
     "output_type": "execute_result"
    }
   ],
   "source": [
    "df.head(5)"
   ]
  },
  {
   "cell_type": "markdown",
   "metadata": {},
   "source": [
    "### Data Cleaning "
   ]
  },
  {
   "cell_type": "markdown",
   "metadata": {},
   "source": [
    "Here Give the Steps Need to Clean\n",
    "\n",
    "1.   In the Target_Audience column, separate the gender category and target audience information. <br><br>\n",
    "2.   In the Duration column, remove the word \"Day\" and convert the values into numeric format.<br><br>\n",
    "3.   In the Date column, change the date format to a standardized format.<br><br>\n",
    "4.   In the Acquisition_Cost column, remove the dollar sign and convert the values into numerical format.<br><br>"
   ]
  },
  {
   "cell_type": "markdown",
   "metadata": {},
   "source": [
    "#### Catorical Columns"
   ]
  },
  {
   "cell_type": "code",
   "execution_count": 13,
   "metadata": {},
   "outputs": [
    {
     "data": {
      "text/plain": [
       "array(['Innovate Industries', 'NexGen Systems', 'Alpha Innovations',\n",
       "       'DataTech Solutions', 'TechCorp'], dtype=object)"
      ]
     },
     "execution_count": 13,
     "metadata": {},
     "output_type": "execute_result"
    }
   ],
   "source": [
    "df[\"Company\"].unique()"
   ]
  },
  {
   "cell_type": "code",
   "execution_count": 15,
   "metadata": {},
   "outputs": [
    {
     "data": {
      "text/plain": [
       "array(['Men 18-24', 'Women 35-44', 'Men 25-34', 'All Ages', 'Women 25-34'],\n",
       "      dtype=object)"
      ]
     },
     "execution_count": 15,
     "metadata": {},
     "output_type": "execute_result"
    }
   ],
   "source": [
    "df[\"Target_Audience\"].unique()"
   ]
  },
  {
   "cell_type": "code",
   "execution_count": null,
   "metadata": {},
   "outputs": [
    {
     "data": {
      "text/plain": [
       "array(['30 days', '60 days', '15 days', '45 days'], dtype=object)"
      ]
     },
     "execution_count": 17,
     "metadata": {},
     "output_type": "execute_result"
    }
   ],
   "source": [
    "df[\"Duration\"].unique()"
   ]
  },
  {
   "cell_type": "code",
   "execution_count": 18,
   "metadata": {},
   "outputs": [
    {
     "data": {
      "text/plain": [
       "array(['Google Ads', 'YouTube', 'Instagram', 'Website', 'Facebook',\n",
       "       'Email'], dtype=object)"
      ]
     },
     "execution_count": 18,
     "metadata": {},
     "output_type": "execute_result"
    }
   ],
   "source": [
    "df[\"Channel_Used\"].unique()"
   ]
  },
  {
   "cell_type": "code",
   "execution_count": 23,
   "metadata": {},
   "outputs": [
    {
     "data": {
      "text/plain": [
       "array(['Chicago', 'New York', 'Los Angeles', 'Miami', 'Houston'],\n",
       "      dtype=object)"
      ]
     },
     "execution_count": 23,
     "metadata": {},
     "output_type": "execute_result"
    }
   ],
   "source": [
    "df[\"Location\"].unique()"
   ]
  },
  {
   "cell_type": "code",
   "execution_count": 24,
   "metadata": {},
   "outputs": [
    {
     "data": {
      "text/plain": [
       "array(['Spanish', 'German', 'French', 'Mandarin', 'English'], dtype=object)"
      ]
     },
     "execution_count": 24,
     "metadata": {},
     "output_type": "execute_result"
    }
   ],
   "source": [
    "df[\"Language\"].unique()"
   ]
  },
  {
   "cell_type": "code",
   "execution_count": null,
   "metadata": {},
   "outputs": [
    {
     "data": {
      "text/plain": [
       "array(['Health & Wellness', 'Fashionistas', 'Outdoor Adventurers',\n",
       "       'Foodies', 'Tech Enthusiasts'], dtype=object)"
      ]
     },
     "execution_count": 26,
     "metadata": {},
     "output_type": "execute_result"
    }
   ],
   "source": [
    "df[\"Customer_Segment\"].unique()"
   ]
  },
  {
   "cell_type": "markdown",
   "metadata": {},
   "source": [
    "#### Numerical Columns"
   ]
  },
  {
   "cell_type": "code",
   "execution_count": 27,
   "metadata": {},
   "outputs": [
    {
     "data": {
      "text/plain": [
       "Index(['Company', 'Campaign_Type', 'Target_Audience', 'Duration',\n",
       "       'Channel_Used', 'Conversion_Rate', 'Acquisition_Cost', 'ROI',\n",
       "       'Location', 'Language', 'Clicks', 'Impressions', 'Engagement_Score',\n",
       "       'Customer_Segment', 'Date'],\n",
       "      dtype='object')"
      ]
     },
     "execution_count": 27,
     "metadata": {},
     "output_type": "execute_result"
    }
   ],
   "source": [
    "df.columns"
   ]
  },
  {
   "cell_type": "code",
   "execution_count": 29,
   "metadata": {},
   "outputs": [
    {
     "data": {
      "text/plain": [
       "array([ 506,  116,  584,  217,  379,  100,  817,  624,  861,  642,  321,\n",
       "        659,  677,  994,  482,  299,  931,  218,  182,  193,  975,  319,\n",
       "        646,  764,  527,  809,  953,  604,  384,  952,  512,  309,  367,\n",
       "        243,  360,  250,  822,  833,  663,  268,  212,  598,  988,  282,\n",
       "        992,  903,  629,  190,  150,  134,  657,  385,  537,  450,  178,\n",
       "        164,  569,  330,  256,  849,  261,  592,  201,  648,  187,  839,\n",
       "        240,  932,  694,  202,  416,  576,  300,  776,  492,  763,  791,\n",
       "        737,  159,  913,  238,  635,  597,  550,  956,  628,  938,  147,\n",
       "        108,  395,  419,  463,  521,  706,  207,  583,  864,  387,  560,\n",
       "        306,  740,  115,  366,  552,  369,  886,  447,  595,  438,  652,\n",
       "        802,  841,  137,  850,  727,  986,  259,  942,  166,  508,  885,\n",
       "        158,  857,  481,  999,  939,  666,  359,  328,  571,  845,  585,\n",
       "        418,  208,  556,  734,  643,  165,  693,  404,  257,  901,  724,\n",
       "        672,  148,  488,  420,  616,  170,  957,  872,  716,  998,  568,\n",
       "        421,  797,  668,  303,  540,  801,  436,  683,  862,  944,  241,\n",
       "        200,  883,  690,  372,  505,  961,  209,  312,  542,  461,  842,\n",
       "        743,  423,  433,  146,  117,  324,  317,  472,  896,  132,  210,\n",
       "        280,  308,  554,  868,  376,  264,  773,  726,  614,  967,  167,\n",
       "        924,  715,  198,  285,  153,  660,  111,  820,  935,  685,  703,\n",
       "        409,  662,  320,  587,  119,  970,  993,  350,  897,  162,  949,\n",
       "        154,  735,  341,  222,  314,  838,  394,  536,  143,  426,  295,\n",
       "        661,  441,  983,  354,  570,  676,  741,  274,  860,  397,  449,\n",
       "        831,  631,  921,  262,  294,  704,  399,  664,  784,  697,  247,\n",
       "        334,  199,  406,  771,  586,  566,  858,  254,  803,  325,  695,\n",
       "        195,  513,  645,  439,  458,  233,  515,  730,  619,  946,  326,\n",
       "        800,  517,  130,  602,  474,  563,  497,  577,  902,  443,  531,\n",
       "        788,  480,  819,  747,  471,  363,  388,  206,  995,  453,  978,\n",
       "        639,  699,  647,  171,  290,  710,  679,  969,  636,  318,  846,\n",
       "        289,  887,  829,  335,  123,  435,  718,  733,  454,  806,  232,\n",
       "        125,  824,  881,  378,  834,  709,  696,  239,  890,  412,  118,\n",
       "        525,  609,  649,  908,  578,  140,  124,  562,  466,  184,  991,\n",
       "        671,  469,  377,  963,  279,  656,  789,  520,  582,  221,  331,\n",
       "        316,  301,  987,  917,  856,  933,  104,  794,  610,  816,  176,\n",
       "        228,  818,  518,  292,  826,  120,  275,  455,  244,  538,  149,\n",
       "        753,  368,  194,  172,  580,  798,  940,  637,  736,  305,  870,\n",
       "        702,  767,  701,  893,  467,  374,  260,  353,  682,  830,  955,\n",
       "        215,  965,  640,  494,  432,  237,  775,  581,  745,  837,  265,\n",
       "        941,  403,  905,  761,  457,  430,  973,  129,  698,  588,  141,\n",
       "        655,  557,  411,  750,  340,  714,  876,  605,  444,  348,  971,\n",
       "        133,  593,  934,  594,  155,  213,  392,  607,  530,  177,  145,\n",
       "        626,  667,  425,  722,  434,  866,  574,  954,  960,  670,  575,\n",
       "        533,  899,  836,  214,  173,  712,  825,  131,  483,  344,  102,\n",
       "        307,  496,  964,  174,  373,  345,  205,  754,  304,  322,  302,\n",
       "        464,  912,  448,  728,  371,  106,  612,  782,  532,  311,  729,\n",
       "        183,  549,  892,  984,  186,  591,  211,  618,  507,  945,  400,\n",
       "        678,  427,  269,  398,  477,  351,  504,  381,  621,  705,  284,\n",
       "        293,  968,  617,  364,  452,  561,  606,  623,  502,  332,  236,\n",
       "        382,  891,  599,  630,  266,  287,  675,  389,  717,  760,  424,\n",
       "        721,  252,  719,  192,  651,  900,  738,  768,  490,  188,  431,\n",
       "        633,  739,  422,  408,  277,  898,  179,  863,  689,  600,  407,\n",
       "        774,  227,  181,  297,  708,  375,  446,  189,  191,  990,  283,\n",
       "        235,  281,  879,  907,  337,  744,  853,  541,  930,  762,  114,\n",
       "        383,  428,  390,  249,  976,  152,  713,  465,  144,  278,  347,\n",
       "        919,  547,  534,  545,  204,  723,  603,  396,  128,  665,  503,\n",
       "        622,  936,  230,  417,  271,  346,  769,  813,  270,  805,  327,\n",
       "        795,  686,  522,  989,  323,  808,  342,  495,  234,  487,  272,\n",
       "        772,  611,  725,  755,  911,  914,  792,  343,  500,  169,  958,\n",
       "        338,  832,  653,  756,  273,  558,  814,  468,  596,  405,  786,\n",
       "        895,  981,  644,  962,  748,  691,  460,  951,  929,  681,  414,\n",
       "        107,  445,  865,  196,  470,  442,  519,  559,  632,  229,  783,\n",
       "        224,  608,  263,  473,  997,  101,  796,  493,  937,  823,  972,\n",
       "        163,  979,  918,  601,  812,  161,  758,  156,  122,  357,  440,\n",
       "        510,  103,  884,  759,  757,  349,  573,  985,  216,  688,  777,\n",
       "        869,  906,  790,  851,  415,  105,  157,  746,  877,  752,  501,\n",
       "        852,  197,  548,  821,  478,  804,  810,  888,  843,  925,  315,\n",
       "        867,  590,  514,  927,  811,  219,  391,  579,  203,  429,  151,\n",
       "        613,  654,  799,  674,  855,  638,  680,  138,  352,  977,  731,\n",
       "        959,  248,  615,  356,  255,  565,  847,  339,  393,  785,  904,\n",
       "        380,  180,  479,  185,  498,  779,  329,  687,  386,  871,  459,\n",
       "        456,  732,  139,  848,  875,  673,  711,  572,  110,  589,  535,\n",
       "        451,  313,  526,  854,  778,  707,  544,  950,  231,  873,  310,\n",
       "        567, 1000,  555,  258,  401,  551,  251,  878,  827,  700,  553,\n",
       "        889,  276,  909,  749,  226,  160,  529,  815,  410,  926,  485,\n",
       "        916,  358,  684,  370,  692,  928,  135,  361,  947,  807,  915,\n",
       "        499,  168,  225,  489,  658,  669,  920,  288,  484,  523,  650,\n",
       "        996,  491,  844,  828,  126,  246,  462,  528,  880,  546,  253,\n",
       "        509,  943,  882,  365,  136,  543,  245,  720,  142,  780,  840,\n",
       "        286,  751,  948,  974,  298,  787,  923,  770,  874,  242,  516,\n",
       "        336,  641,  634,  793,  781,  620,  362,  402,  894,  627,  113,\n",
       "        625,  355,  524,  109,  267,  980,  437,  223,  127,  476,  112,\n",
       "        742,  859,  511,  220,  835,  121,  539,  564,  922,  910,  486,\n",
       "        175,  333,  475,  766,  765,  413,  966,  982,  291,  296],\n",
       "      dtype=int64)"
      ]
     },
     "execution_count": 29,
     "metadata": {},
     "output_type": "execute_result"
    }
   ],
   "source": [
    "df[\"Clicks\"].unique()"
   ]
  },
  {
   "cell_type": "code",
   "execution_count": 30,
   "metadata": {},
   "outputs": [
    {
     "data": {
      "text/plain": [
       "array([0.04, 0.12, 0.07, 0.11, 0.05, 0.13, 0.08, 0.09, 0.14, 0.02, 0.06,\n",
       "       0.01, 0.03, 0.1 , 0.15])"
      ]
     },
     "execution_count": 30,
     "metadata": {},
     "output_type": "execute_result"
    }
   ],
   "source": [
    "df[\"Conversion_Rate\"].unique()"
   ]
  },
  {
   "cell_type": "code",
   "execution_count": 31,
   "metadata": {},
   "outputs": [
    {
     "data": {
      "text/plain": [
       "array([ 6,  7,  1,  3, 10,  4,  5,  9,  2,  8], dtype=int64)"
      ]
     },
     "execution_count": 31,
     "metadata": {},
     "output_type": "execute_result"
    }
   ],
   "source": [
    "df[\"Engagement_Score\"].unique()"
   ]
  },
  {
   "cell_type": "code",
   "execution_count": 34,
   "metadata": {},
   "outputs": [
    {
     "data": {
      "text/plain": [
       "array([1922, 7523, 7698, ..., 3538, 1245, 2504], dtype=int64)"
      ]
     },
     "execution_count": 34,
     "metadata": {},
     "output_type": "execute_result"
    }
   ],
   "source": [
    "df[\"Impressions\"].unique()"
   ]
  },
  {
   "cell_type": "code",
   "execution_count": 35,
   "metadata": {},
   "outputs": [
    {
     "data": {
      "text/plain": [
       "array(['$16,174.00', '$11,566.00', '$10,200.00', ..., '$14,111.00',\n",
       "       '$13,941.00', '$15,040.00'], dtype=object)"
      ]
     },
     "execution_count": 35,
     "metadata": {},
     "output_type": "execute_result"
    }
   ],
   "source": [
    "df[\"Acquisition_Cost\"].unique()"
   ]
  },
  {
   "cell_type": "markdown",
   "metadata": {},
   "source": [
    "### Acquisition_cost"
   ]
  },
  {
   "cell_type": "code",
   "execution_count": null,
   "metadata": {},
   "outputs": [],
   "source": [
    "df[\"Acquisition_Cost\"] = (\n",
    "    df[\"Acquisition_Cost\"]\n",
    "    .str.replace(\"$\", \"\")\n",
    "    .str.replace(\",\", \"\")\n",
    "    .str.strip()\n",
    "    .astype(float)\n",
    ")"
   ]
  },
  {
   "cell_type": "markdown",
   "metadata": {},
   "source": [
    "### Target_Audience"
   ]
  },
  {
   "cell_type": "code",
   "execution_count": 81,
   "metadata": {},
   "outputs": [
    {
     "data": {
      "text/plain": [
       "0           Men 18-24\n",
       "1         Women 35-44\n",
       "2           Men 25-34\n",
       "3            All Ages\n",
       "4           Men 25-34\n",
       "             ...     \n",
       "199995       All Ages\n",
       "199996      Men 25-34\n",
       "199997      Men 18-24\n",
       "199998       All Ages\n",
       "199999    Women 35-44\n",
       "Name: Target_Audience, Length: 200000, dtype: object"
      ]
     },
     "execution_count": 81,
     "metadata": {},
     "output_type": "execute_result"
    }
   ],
   "source": [
    "df['Target_Audience']"
   ]
  },
  {
   "cell_type": "code",
   "execution_count": null,
   "metadata": {},
   "outputs": [
    {
     "data": {
      "text/plain": [
       "array([list(['Men', '18-24']), list(['Women', '35-44']),\n",
       "       list(['Men', '25-34']), ..., list(['Men', '18-24']), 'All Ages',\n",
       "       list(['Women', '35-44'])], dtype=object)"
      ]
     },
     "execution_count": 87,
     "metadata": {},
     "output_type": "execute_result"
    }
   ],
   "source": [
    "# np.where(df['Target_Audience'].str.contains('-'),df['Target_Audience'].str.split(),df['Target_Audience'])"
   ]
  },
  {
   "cell_type": "code",
   "execution_count": 108,
   "metadata": {},
   "outputs": [
    {
     "data": {
      "text/plain": [
       "0           [Men, 18-24]\n",
       "1         [Women, 35-44]\n",
       "2           [Men, 25-34]\n",
       "3               All Ages\n",
       "4           [Men, 25-34]\n",
       "               ...      \n",
       "199995          All Ages\n",
       "199996      [Men, 25-34]\n",
       "199997      [Men, 18-24]\n",
       "199998          All Ages\n",
       "199999    [Women, 35-44]\n",
       "Name: Target_Audience, Length: 200000, dtype: object"
      ]
     },
     "execution_count": 108,
     "metadata": {},
     "output_type": "execute_result"
    }
   ],
   "source": [
    "audeience = df['Target_Audience'].apply(lambda x: x.split() if '-' in x else x)\n",
    "audeience"
   ]
  },
  {
   "cell_type": "code",
   "execution_count": 110,
   "metadata": {},
   "outputs": [],
   "source": [
    "df['Age_group'] = audeience.apply(lambda x: x[1] if isinstance(x,list) and len(x)>1 else 'All Ages') "
   ]
  },
  {
   "cell_type": "code",
   "execution_count": 113,
   "metadata": {},
   "outputs": [],
   "source": [
    "df['Gender_cateogry'] =  audeience.apply(lambda x: x[0] if isinstance(x,list) and len(x)>1 else 'All') "
   ]
  },
  {
   "cell_type": "markdown",
   "metadata": {},
   "source": [
    "### Duration"
   ]
  },
  {
   "cell_type": "code",
   "execution_count": 115,
   "metadata": {},
   "outputs": [
    {
     "data": {
      "text/plain": [
       "0         30 days\n",
       "1         60 days\n",
       "2         30 days\n",
       "3         60 days\n",
       "4         15 days\n",
       "           ...   \n",
       "199995    30 days\n",
       "199996    15 days\n",
       "199997    45 days\n",
       "199998    30 days\n",
       "199999    45 days\n",
       "Name: Duration, Length: 200000, dtype: object"
      ]
     },
     "execution_count": 115,
     "metadata": {},
     "output_type": "execute_result"
    }
   ],
   "source": [
    "df['Duration']"
   ]
  },
  {
   "cell_type": "code",
   "execution_count": 139,
   "metadata": {},
   "outputs": [],
   "source": [
    "df['Duration'] = df['Duration'].apply(lambda x: x.split()[0])\n",
    "# df['Duration'].str.split().str[0]"
   ]
  },
  {
   "cell_type": "code",
   "execution_count": 142,
   "metadata": {},
   "outputs": [],
   "source": [
    "df.rename(columns={'Duration':'Duration_days'},inplace=True)"
   ]
  },
  {
   "cell_type": "code",
   "execution_count": 143,
   "metadata": {},
   "outputs": [
    {
     "data": {
      "text/html": [
       "<div>\n",
       "<style scoped>\n",
       "    .dataframe tbody tr th:only-of-type {\n",
       "        vertical-align: middle;\n",
       "    }\n",
       "\n",
       "    .dataframe tbody tr th {\n",
       "        vertical-align: top;\n",
       "    }\n",
       "\n",
       "    .dataframe thead th {\n",
       "        text-align: right;\n",
       "    }\n",
       "</style>\n",
       "<table border=\"1\" class=\"dataframe\">\n",
       "  <thead>\n",
       "    <tr style=\"text-align: right;\">\n",
       "      <th></th>\n",
       "      <th>Company</th>\n",
       "      <th>Campaign_Type</th>\n",
       "      <th>Target_Audience</th>\n",
       "      <th>Duration_days</th>\n",
       "      <th>Channel_Used</th>\n",
       "      <th>Conversion_Rate</th>\n",
       "      <th>Acquisition_Cost</th>\n",
       "      <th>ROI</th>\n",
       "      <th>Location</th>\n",
       "      <th>Language</th>\n",
       "      <th>Clicks</th>\n",
       "      <th>Impressions</th>\n",
       "      <th>Engagement_Score</th>\n",
       "      <th>Customer_Segment</th>\n",
       "      <th>Date</th>\n",
       "      <th>Age_group</th>\n",
       "      <th>Gender_cateogry</th>\n",
       "    </tr>\n",
       "  </thead>\n",
       "  <tbody>\n",
       "    <tr>\n",
       "      <th>0</th>\n",
       "      <td>Innovate Industries</td>\n",
       "      <td>Email</td>\n",
       "      <td>Men 18-24</td>\n",
       "      <td>30</td>\n",
       "      <td>Google Ads</td>\n",
       "      <td>0.04</td>\n",
       "      <td>16174.0</td>\n",
       "      <td>6.29</td>\n",
       "      <td>Chicago</td>\n",
       "      <td>Spanish</td>\n",
       "      <td>506</td>\n",
       "      <td>1922</td>\n",
       "      <td>6</td>\n",
       "      <td>Health &amp; Wellness</td>\n",
       "      <td>2021-01-01</td>\n",
       "      <td>18-24</td>\n",
       "      <td>Men</td>\n",
       "    </tr>\n",
       "    <tr>\n",
       "      <th>1</th>\n",
       "      <td>NexGen Systems</td>\n",
       "      <td>Email</td>\n",
       "      <td>Women 35-44</td>\n",
       "      <td>60</td>\n",
       "      <td>Google Ads</td>\n",
       "      <td>0.12</td>\n",
       "      <td>11566.0</td>\n",
       "      <td>5.61</td>\n",
       "      <td>New York</td>\n",
       "      <td>German</td>\n",
       "      <td>116</td>\n",
       "      <td>7523</td>\n",
       "      <td>7</td>\n",
       "      <td>Fashionistas</td>\n",
       "      <td>2021-01-02</td>\n",
       "      <td>35-44</td>\n",
       "      <td>Women</td>\n",
       "    </tr>\n",
       "    <tr>\n",
       "      <th>2</th>\n",
       "      <td>Alpha Innovations</td>\n",
       "      <td>Influencer</td>\n",
       "      <td>Men 25-34</td>\n",
       "      <td>30</td>\n",
       "      <td>YouTube</td>\n",
       "      <td>0.07</td>\n",
       "      <td>10200.0</td>\n",
       "      <td>7.18</td>\n",
       "      <td>Los Angeles</td>\n",
       "      <td>French</td>\n",
       "      <td>584</td>\n",
       "      <td>7698</td>\n",
       "      <td>1</td>\n",
       "      <td>Outdoor Adventurers</td>\n",
       "      <td>2021-01-03</td>\n",
       "      <td>25-34</td>\n",
       "      <td>Men</td>\n",
       "    </tr>\n",
       "    <tr>\n",
       "      <th>3</th>\n",
       "      <td>DataTech Solutions</td>\n",
       "      <td>Display</td>\n",
       "      <td>All Ages</td>\n",
       "      <td>60</td>\n",
       "      <td>YouTube</td>\n",
       "      <td>0.11</td>\n",
       "      <td>12724.0</td>\n",
       "      <td>5.55</td>\n",
       "      <td>Miami</td>\n",
       "      <td>Mandarin</td>\n",
       "      <td>217</td>\n",
       "      <td>1820</td>\n",
       "      <td>7</td>\n",
       "      <td>Health &amp; Wellness</td>\n",
       "      <td>2021-01-04</td>\n",
       "      <td>All Ages</td>\n",
       "      <td>All</td>\n",
       "    </tr>\n",
       "    <tr>\n",
       "      <th>4</th>\n",
       "      <td>NexGen Systems</td>\n",
       "      <td>Email</td>\n",
       "      <td>Men 25-34</td>\n",
       "      <td>15</td>\n",
       "      <td>YouTube</td>\n",
       "      <td>0.05</td>\n",
       "      <td>16452.0</td>\n",
       "      <td>6.50</td>\n",
       "      <td>Los Angeles</td>\n",
       "      <td>Mandarin</td>\n",
       "      <td>379</td>\n",
       "      <td>4201</td>\n",
       "      <td>3</td>\n",
       "      <td>Health &amp; Wellness</td>\n",
       "      <td>2021-01-05</td>\n",
       "      <td>25-34</td>\n",
       "      <td>Men</td>\n",
       "    </tr>\n",
       "    <tr>\n",
       "      <th>...</th>\n",
       "      <td>...</td>\n",
       "      <td>...</td>\n",
       "      <td>...</td>\n",
       "      <td>...</td>\n",
       "      <td>...</td>\n",
       "      <td>...</td>\n",
       "      <td>...</td>\n",
       "      <td>...</td>\n",
       "      <td>...</td>\n",
       "      <td>...</td>\n",
       "      <td>...</td>\n",
       "      <td>...</td>\n",
       "      <td>...</td>\n",
       "      <td>...</td>\n",
       "      <td>...</td>\n",
       "      <td>...</td>\n",
       "      <td>...</td>\n",
       "    </tr>\n",
       "    <tr>\n",
       "      <th>199995</th>\n",
       "      <td>TechCorp</td>\n",
       "      <td>Display</td>\n",
       "      <td>All Ages</td>\n",
       "      <td>30</td>\n",
       "      <td>Google Ads</td>\n",
       "      <td>0.06</td>\n",
       "      <td>18365.0</td>\n",
       "      <td>2.84</td>\n",
       "      <td>Chicago</td>\n",
       "      <td>German</td>\n",
       "      <td>858</td>\n",
       "      <td>5988</td>\n",
       "      <td>1</td>\n",
       "      <td>Tech Enthusiasts</td>\n",
       "      <td>2021-12-07</td>\n",
       "      <td>All Ages</td>\n",
       "      <td>All</td>\n",
       "    </tr>\n",
       "    <tr>\n",
       "      <th>199996</th>\n",
       "      <td>DataTech Solutions</td>\n",
       "      <td>Email</td>\n",
       "      <td>Men 25-34</td>\n",
       "      <td>15</td>\n",
       "      <td>Facebook</td>\n",
       "      <td>0.02</td>\n",
       "      <td>8168.0</td>\n",
       "      <td>4.14</td>\n",
       "      <td>Chicago</td>\n",
       "      <td>Spanish</td>\n",
       "      <td>228</td>\n",
       "      <td>3068</td>\n",
       "      <td>7</td>\n",
       "      <td>Foodies</td>\n",
       "      <td>2021-12-08</td>\n",
       "      <td>25-34</td>\n",
       "      <td>Men</td>\n",
       "    </tr>\n",
       "    <tr>\n",
       "      <th>199997</th>\n",
       "      <td>DataTech Solutions</td>\n",
       "      <td>Social Media</td>\n",
       "      <td>Men 18-24</td>\n",
       "      <td>45</td>\n",
       "      <td>Website</td>\n",
       "      <td>0.05</td>\n",
       "      <td>13397.0</td>\n",
       "      <td>3.25</td>\n",
       "      <td>New York</td>\n",
       "      <td>Mandarin</td>\n",
       "      <td>723</td>\n",
       "      <td>9548</td>\n",
       "      <td>3</td>\n",
       "      <td>Tech Enthusiasts</td>\n",
       "      <td>2021-12-09</td>\n",
       "      <td>18-24</td>\n",
       "      <td>Men</td>\n",
       "    </tr>\n",
       "    <tr>\n",
       "      <th>199998</th>\n",
       "      <td>Innovate Industries</td>\n",
       "      <td>Influencer</td>\n",
       "      <td>All Ages</td>\n",
       "      <td>30</td>\n",
       "      <td>YouTube</td>\n",
       "      <td>0.10</td>\n",
       "      <td>18508.0</td>\n",
       "      <td>3.86</td>\n",
       "      <td>Houston</td>\n",
       "      <td>French</td>\n",
       "      <td>528</td>\n",
       "      <td>2763</td>\n",
       "      <td>1</td>\n",
       "      <td>Foodies</td>\n",
       "      <td>2021-12-10</td>\n",
       "      <td>All Ages</td>\n",
       "      <td>All</td>\n",
       "    </tr>\n",
       "    <tr>\n",
       "      <th>199999</th>\n",
       "      <td>Innovate Industries</td>\n",
       "      <td>Social Media</td>\n",
       "      <td>Women 35-44</td>\n",
       "      <td>45</td>\n",
       "      <td>Google Ads</td>\n",
       "      <td>0.01</td>\n",
       "      <td>13835.0</td>\n",
       "      <td>6.64</td>\n",
       "      <td>Chicago</td>\n",
       "      <td>Spanish</td>\n",
       "      <td>924</td>\n",
       "      <td>7287</td>\n",
       "      <td>8</td>\n",
       "      <td>Tech Enthusiasts</td>\n",
       "      <td>2021-12-11</td>\n",
       "      <td>35-44</td>\n",
       "      <td>Women</td>\n",
       "    </tr>\n",
       "  </tbody>\n",
       "</table>\n",
       "<p>200000 rows × 17 columns</p>\n",
       "</div>"
      ],
      "text/plain": [
       "                    Company Campaign_Type Target_Audience Duration_days  \\\n",
       "0       Innovate Industries         Email       Men 18-24            30   \n",
       "1            NexGen Systems         Email     Women 35-44            60   \n",
       "2         Alpha Innovations    Influencer       Men 25-34            30   \n",
       "3        DataTech Solutions       Display        All Ages            60   \n",
       "4            NexGen Systems         Email       Men 25-34            15   \n",
       "...                     ...           ...             ...           ...   \n",
       "199995             TechCorp       Display        All Ages            30   \n",
       "199996   DataTech Solutions         Email       Men 25-34            15   \n",
       "199997   DataTech Solutions  Social Media       Men 18-24            45   \n",
       "199998  Innovate Industries    Influencer        All Ages            30   \n",
       "199999  Innovate Industries  Social Media     Women 35-44            45   \n",
       "\n",
       "       Channel_Used  Conversion_Rate  Acquisition_Cost   ROI     Location  \\\n",
       "0        Google Ads             0.04           16174.0  6.29      Chicago   \n",
       "1        Google Ads             0.12           11566.0  5.61     New York   \n",
       "2           YouTube             0.07           10200.0  7.18  Los Angeles   \n",
       "3           YouTube             0.11           12724.0  5.55        Miami   \n",
       "4           YouTube             0.05           16452.0  6.50  Los Angeles   \n",
       "...             ...              ...               ...   ...          ...   \n",
       "199995   Google Ads             0.06           18365.0  2.84      Chicago   \n",
       "199996     Facebook             0.02            8168.0  4.14      Chicago   \n",
       "199997      Website             0.05           13397.0  3.25     New York   \n",
       "199998      YouTube             0.10           18508.0  3.86      Houston   \n",
       "199999   Google Ads             0.01           13835.0  6.64      Chicago   \n",
       "\n",
       "        Language  Clicks  Impressions  Engagement_Score     Customer_Segment  \\\n",
       "0        Spanish     506         1922                 6    Health & Wellness   \n",
       "1         German     116         7523                 7         Fashionistas   \n",
       "2         French     584         7698                 1  Outdoor Adventurers   \n",
       "3       Mandarin     217         1820                 7    Health & Wellness   \n",
       "4       Mandarin     379         4201                 3    Health & Wellness   \n",
       "...          ...     ...          ...               ...                  ...   \n",
       "199995    German     858         5988                 1     Tech Enthusiasts   \n",
       "199996   Spanish     228         3068                 7              Foodies   \n",
       "199997  Mandarin     723         9548                 3     Tech Enthusiasts   \n",
       "199998    French     528         2763                 1              Foodies   \n",
       "199999   Spanish     924         7287                 8     Tech Enthusiasts   \n",
       "\n",
       "              Date Age_group Gender_cateogry  \n",
       "0       2021-01-01     18-24             Men  \n",
       "1       2021-01-02     35-44           Women  \n",
       "2       2021-01-03     25-34             Men  \n",
       "3       2021-01-04  All Ages             All  \n",
       "4       2021-01-05     25-34             Men  \n",
       "...            ...       ...             ...  \n",
       "199995  2021-12-07  All Ages             All  \n",
       "199996  2021-12-08     25-34             Men  \n",
       "199997  2021-12-09     18-24             Men  \n",
       "199998  2021-12-10  All Ages             All  \n",
       "199999  2021-12-11     35-44           Women  \n",
       "\n",
       "[200000 rows x 17 columns]"
      ]
     },
     "execution_count": 143,
     "metadata": {},
     "output_type": "execute_result"
    }
   ],
   "source": [
    "df"
   ]
  },
  {
   "cell_type": "markdown",
   "metadata": {},
   "source": [
    "### Convert Datetime Format"
   ]
  },
  {
   "cell_type": "code",
   "execution_count": 145,
   "metadata": {},
   "outputs": [],
   "source": [
    "df['Date'] = pd.to_datetime(df['Date'],errors='coerce')"
   ]
  },
  {
   "cell_type": "markdown",
   "metadata": {},
   "source": [
    "#### Remove Unnessary Columns"
   ]
  },
  {
   "cell_type": "code",
   "execution_count": 149,
   "metadata": {},
   "outputs": [],
   "source": [
    "df.drop(columns=['Target_Audience'],axis=1,inplace=True)"
   ]
  },
  {
   "cell_type": "code",
   "execution_count": 152,
   "metadata": {},
   "outputs": [],
   "source": [
    "df.to_csv('Clean Markting Data.csv')"
   ]
  },
  {
   "cell_type": "code",
   "execution_count": 237,
   "metadata": {},
   "outputs": [
    {
     "name": "stdout",
     "output_type": "stream",
     "text": [
      "<class 'pandas.core.frame.DataFrame'>\n",
      "RangeIndex: 200000 entries, 0 to 199999\n",
      "Data columns (total 16 columns):\n",
      " #   Column            Non-Null Count   Dtype         \n",
      "---  ------            --------------   -----         \n",
      " 0   Company           200000 non-null  object        \n",
      " 1   Campaign_Type     200000 non-null  object        \n",
      " 2   Duration_days     200000 non-null  object        \n",
      " 3   Channel_Used      200000 non-null  object        \n",
      " 4   Conversion_Rate   200000 non-null  float64       \n",
      " 5   Acquisition_Cost  200000 non-null  float64       \n",
      " 6   ROI               200000 non-null  float64       \n",
      " 7   Location          200000 non-null  object        \n",
      " 8   Language          200000 non-null  object        \n",
      " 9   Clicks            200000 non-null  int64         \n",
      " 10  Impressions       200000 non-null  int64         \n",
      " 11  Engagement_Score  200000 non-null  int64         \n",
      " 12  Customer_Segment  200000 non-null  object        \n",
      " 13  Date              200000 non-null  datetime64[ns]\n",
      " 14  Age_group         200000 non-null  object        \n",
      " 15  Gender_cateogry   200000 non-null  object        \n",
      "dtypes: datetime64[ns](1), float64(3), int64(3), object(9)\n",
      "memory usage: 24.4+ MB\n"
     ]
    }
   ],
   "source": [
    "df.info()"
   ]
  },
  {
   "cell_type": "markdown",
   "metadata": {},
   "source": [
    "## Explority Data Analysis"
   ]
  },
  {
   "cell_type": "markdown",
   "metadata": {},
   "source": [
    "### Univariant Analysis"
   ]
  },
  {
   "cell_type": "markdown",
   "metadata": {},
   "source": [
    "#### Catogical Columns"
   ]
  },
  {
   "cell_type": "code",
   "execution_count": 154,
   "metadata": {},
   "outputs": [
    {
     "data": {
      "text/html": [
       "<div>\n",
       "<style scoped>\n",
       "    .dataframe tbody tr th:only-of-type {\n",
       "        vertical-align: middle;\n",
       "    }\n",
       "\n",
       "    .dataframe tbody tr th {\n",
       "        vertical-align: top;\n",
       "    }\n",
       "\n",
       "    .dataframe thead th {\n",
       "        text-align: right;\n",
       "    }\n",
       "</style>\n",
       "<table border=\"1\" class=\"dataframe\">\n",
       "  <thead>\n",
       "    <tr style=\"text-align: right;\">\n",
       "      <th></th>\n",
       "      <th>Company</th>\n",
       "      <th>Campaign_Type</th>\n",
       "      <th>Duration_days</th>\n",
       "      <th>Channel_Used</th>\n",
       "      <th>Conversion_Rate</th>\n",
       "      <th>Acquisition_Cost</th>\n",
       "      <th>ROI</th>\n",
       "      <th>Location</th>\n",
       "      <th>Language</th>\n",
       "      <th>Clicks</th>\n",
       "      <th>Impressions</th>\n",
       "      <th>Engagement_Score</th>\n",
       "      <th>Customer_Segment</th>\n",
       "      <th>Date</th>\n",
       "      <th>Age_group</th>\n",
       "      <th>Gender_cateogry</th>\n",
       "    </tr>\n",
       "  </thead>\n",
       "  <tbody>\n",
       "    <tr>\n",
       "      <th>0</th>\n",
       "      <td>Innovate Industries</td>\n",
       "      <td>Email</td>\n",
       "      <td>30</td>\n",
       "      <td>Google Ads</td>\n",
       "      <td>0.04</td>\n",
       "      <td>16174.0</td>\n",
       "      <td>6.29</td>\n",
       "      <td>Chicago</td>\n",
       "      <td>Spanish</td>\n",
       "      <td>506</td>\n",
       "      <td>1922</td>\n",
       "      <td>6</td>\n",
       "      <td>Health &amp; Wellness</td>\n",
       "      <td>2021-01-01</td>\n",
       "      <td>18-24</td>\n",
       "      <td>Men</td>\n",
       "    </tr>\n",
       "    <tr>\n",
       "      <th>1</th>\n",
       "      <td>NexGen Systems</td>\n",
       "      <td>Email</td>\n",
       "      <td>60</td>\n",
       "      <td>Google Ads</td>\n",
       "      <td>0.12</td>\n",
       "      <td>11566.0</td>\n",
       "      <td>5.61</td>\n",
       "      <td>New York</td>\n",
       "      <td>German</td>\n",
       "      <td>116</td>\n",
       "      <td>7523</td>\n",
       "      <td>7</td>\n",
       "      <td>Fashionistas</td>\n",
       "      <td>2021-01-02</td>\n",
       "      <td>35-44</td>\n",
       "      <td>Women</td>\n",
       "    </tr>\n",
       "    <tr>\n",
       "      <th>2</th>\n",
       "      <td>Alpha Innovations</td>\n",
       "      <td>Influencer</td>\n",
       "      <td>30</td>\n",
       "      <td>YouTube</td>\n",
       "      <td>0.07</td>\n",
       "      <td>10200.0</td>\n",
       "      <td>7.18</td>\n",
       "      <td>Los Angeles</td>\n",
       "      <td>French</td>\n",
       "      <td>584</td>\n",
       "      <td>7698</td>\n",
       "      <td>1</td>\n",
       "      <td>Outdoor Adventurers</td>\n",
       "      <td>2021-01-03</td>\n",
       "      <td>25-34</td>\n",
       "      <td>Men</td>\n",
       "    </tr>\n",
       "    <tr>\n",
       "      <th>3</th>\n",
       "      <td>DataTech Solutions</td>\n",
       "      <td>Display</td>\n",
       "      <td>60</td>\n",
       "      <td>YouTube</td>\n",
       "      <td>0.11</td>\n",
       "      <td>12724.0</td>\n",
       "      <td>5.55</td>\n",
       "      <td>Miami</td>\n",
       "      <td>Mandarin</td>\n",
       "      <td>217</td>\n",
       "      <td>1820</td>\n",
       "      <td>7</td>\n",
       "      <td>Health &amp; Wellness</td>\n",
       "      <td>2021-01-04</td>\n",
       "      <td>All Ages</td>\n",
       "      <td>All</td>\n",
       "    </tr>\n",
       "  </tbody>\n",
       "</table>\n",
       "</div>"
      ],
      "text/plain": [
       "               Company Campaign_Type Duration_days Channel_Used  \\\n",
       "0  Innovate Industries         Email            30   Google Ads   \n",
       "1       NexGen Systems         Email            60   Google Ads   \n",
       "2    Alpha Innovations    Influencer            30      YouTube   \n",
       "3   DataTech Solutions       Display            60      YouTube   \n",
       "\n",
       "   Conversion_Rate  Acquisition_Cost   ROI     Location  Language  Clicks  \\\n",
       "0             0.04           16174.0  6.29      Chicago   Spanish     506   \n",
       "1             0.12           11566.0  5.61     New York    German     116   \n",
       "2             0.07           10200.0  7.18  Los Angeles    French     584   \n",
       "3             0.11           12724.0  5.55        Miami  Mandarin     217   \n",
       "\n",
       "   Impressions  Engagement_Score     Customer_Segment       Date Age_group  \\\n",
       "0         1922                 6    Health & Wellness 2021-01-01     18-24   \n",
       "1         7523                 7         Fashionistas 2021-01-02     35-44   \n",
       "2         7698                 1  Outdoor Adventurers 2021-01-03     25-34   \n",
       "3         1820                 7    Health & Wellness 2021-01-04  All Ages   \n",
       "\n",
       "  Gender_cateogry  \n",
       "0             Men  \n",
       "1           Women  \n",
       "2             Men  \n",
       "3             All  "
      ]
     },
     "execution_count": 154,
     "metadata": {},
     "output_type": "execute_result"
    }
   ],
   "source": [
    "df.head(4)"
   ]
  },
  {
   "cell_type": "markdown",
   "metadata": {},
   "source": [
    "Company"
   ]
  },
  {
   "cell_type": "code",
   "execution_count": null,
   "metadata": {},
   "outputs": [
    {
     "data": {
      "image/png": "[encoded data removed]",
      "text/plain": [
       "<Figure size 800x400 with 1 Axes>"
      ]
     },
     "metadata": {},
     "output_type": "display_data"
    }
   ],
   "source": [
    "data = df['Company'].value_counts()\n",
    "plt.figure(figsize=(8, 4))\n",
    "sns.barplot(x=data.index,y=data.values,hue=data.index)\n",
    "plt.xticks(rotation=40)\n",
    "\n",
    "for index,val in enumerate(data):\n",
    "     plt.text(index,val+0.1,str(val), ha=\"center\", va=\"bottom\")\n",
    "plt.show()"
   ]
  },
  {
   "cell_type": "markdown",
   "metadata": {},
   "source": [
    "Campaign_Type"
   ]
  },
  {
   "cell_type": "code",
   "execution_count": null,
   "metadata": {},
   "outputs": [
    {
     "data": {
      "image/png": "[encoded data removed]",
      "text/plain": [
       "<Figure size 800x500 with 1 Axes>"
      ]
     },
     "metadata": {},
     "output_type": "display_data"
    }
   ],
   "source": [
    "plt.figure(figsize=(8,5))\n",
    "data = df['Campaign_Type'].value_counts()\n",
    "sns.barplot(x=data.index , y=data.values , hue=data.index)\n",
    "\n",
    "for index,val in enumerate(data):\n",
    "     plt.text(index,val,str(val),ha=\"center\",va=\"bottom\")"
   ]
  },
  {
   "cell_type": "markdown",
   "metadata": {},
   "source": [
    "Channel_Used"
   ]
  },
  {
   "cell_type": "code",
   "execution_count": 190,
   "metadata": {},
   "outputs": [
    {
     "data": {
      "image/png": "[encoded data removed]",
      "text/plain": [
       "<Figure size 800x500 with 1 Axes>"
      ]
     },
     "metadata": {},
     "output_type": "display_data"
    }
   ],
   "source": [
    "plt.figure(figsize=(8,5))\n",
    "data = df['Channel_Used'].value_counts()\n",
    "sns.barplot(x=data.index , y=data.values , hue=data.index)\n",
    "\n",
    "for index,val in enumerate(data):\n",
    "     plt.text(index,val,str(val),ha=\"center\",va=\"bottom\")"
   ]
  },
  {
   "cell_type": "code",
   "execution_count": 194,
   "metadata": {},
   "outputs": [
    {
     "data": {
      "image/png": "[encoded data removed]",
      "text/plain": [
       "<Figure size 800x500 with 1 Axes>"
      ]
     },
     "metadata": {},
     "output_type": "display_data"
    }
   ],
   "source": [
    "plt.figure(figsize=(8,5))\n",
    "data = df['Customer_Segment'].value_counts()\n",
    "sns.barplot(x=data.index , y=data.values , hue=data.index)\n",
    "plt.xticks(rotation=50)\n",
    "for index,val in enumerate(data):\n",
    "     plt.text(index,val,str(val),ha=\"center\",va=\"bottom\")"
   ]
  },
  {
   "cell_type": "markdown",
   "metadata": {},
   "source": [
    "Here we can also use countplot"
   ]
  },
  {
   "cell_type": "code",
   "execution_count": 235,
   "metadata": {},
   "outputs": [],
   "source": [
    "def Catorical_Univatiant_plots(df,columns):\n",
    "     fig ,axes = plt.subplots(2,2,figsize=(15,9))\n",
    "     axes = axes.flatten()\n",
    "\n",
    "\n",
    "     for i ,columns in enumerate(columns):\n",
    "          sns.countplot(x=df[columns],hue=df[columns],ax=axes[i])\n",
    "          \n",
    "          # Set titles\n",
    "          axes[i].set_title(f\"Distribution of {columns}\")\n",
    "\n",
    "          for index,val in enumerate(df[columns].value_counts()):\n",
    "              axes[i].text(index,val,str(val), ha=\"center\", va=\"bottom\")\n",
    "\n",
    "     axes[0].set_xticklabels(axes[0].get_xticklabels(), rotation=30)\n",
    "\n",
    "     #\n",
    "     plt.tight_layout()\n"
   ]
  },
  {
   "cell_type": "code",
   "execution_count": 236,
   "metadata": {},
   "outputs": [
    {
     "name": "stderr",
     "output_type": "stream",
     "text": [
      "C:\\Users\\admin\\AppData\\Local\\Temp\\ipykernel_2568\\4198661020.py:15: UserWarning: set_ticklabels() should only be used with a fixed number of ticks, i.e. after set_ticks() or using a FixedLocator.\n",
      "  axes[0].set_xticklabels(axes[0].get_xticklabels(), rotation=30)\n"
     ]
    },
    {
     "data": {
      "image/png": "[encoded data removed]",
      "text/plain": [
       "<Figure size 1500x900 with 4 Axes>"
      ]
     },
     "metadata": {},
     "output_type": "display_data"
    }
   ],
   "source": [
    "Catorical_Univatiant_plots(df,['Company', 'Campaign_Type', 'Channel_Used', 'Customer_Segment'])"
   ]
  },
  {
   "cell_type": "markdown",
   "metadata": {},
   "source": [
    "### Bivariant Analysis"
   ]
  },
  {
   "cell_type": "code",
   "execution_count": 192,
   "metadata": {},
   "outputs": [
    {
     "data": {
      "text/html": [
       "<div>\n",
       "<style scoped>\n",
       "    .dataframe tbody tr th:only-of-type {\n",
       "        vertical-align: middle;\n",
       "    }\n",
       "\n",
       "    .dataframe tbody tr th {\n",
       "        vertical-align: top;\n",
       "    }\n",
       "\n",
       "    .dataframe thead th {\n",
       "        text-align: right;\n",
       "    }\n",
       "</style>\n",
       "<table border=\"1\" class=\"dataframe\">\n",
       "  <thead>\n",
       "    <tr style=\"text-align: right;\">\n",
       "      <th></th>\n",
       "      <th>Company</th>\n",
       "      <th>Campaign_Type</th>\n",
       "      <th>Duration_days</th>\n",
       "      <th>Channel_Used</th>\n",
       "      <th>Conversion_Rate</th>\n",
       "      <th>Acquisition_Cost</th>\n",
       "      <th>ROI</th>\n",
       "      <th>Location</th>\n",
       "      <th>Language</th>\n",
       "      <th>Clicks</th>\n",
       "      <th>Impressions</th>\n",
       "      <th>Engagement_Score</th>\n",
       "      <th>Customer_Segment</th>\n",
       "      <th>Date</th>\n",
       "      <th>Age_group</th>\n",
       "      <th>Gender_cateogry</th>\n",
       "    </tr>\n",
       "  </thead>\n",
       "  <tbody>\n",
       "    <tr>\n",
       "      <th>0</th>\n",
       "      <td>Innovate Industries</td>\n",
       "      <td>Email</td>\n",
       "      <td>30</td>\n",
       "      <td>Google Ads</td>\n",
       "      <td>0.04</td>\n",
       "      <td>16174.0</td>\n",
       "      <td>6.29</td>\n",
       "      <td>Chicago</td>\n",
       "      <td>Spanish</td>\n",
       "      <td>506</td>\n",
       "      <td>1922</td>\n",
       "      <td>6</td>\n",
       "      <td>Health &amp; Wellness</td>\n",
       "      <td>2021-01-01</td>\n",
       "      <td>18-24</td>\n",
       "      <td>Men</td>\n",
       "    </tr>\n",
       "    <tr>\n",
       "      <th>1</th>\n",
       "      <td>NexGen Systems</td>\n",
       "      <td>Email</td>\n",
       "      <td>60</td>\n",
       "      <td>Google Ads</td>\n",
       "      <td>0.12</td>\n",
       "      <td>11566.0</td>\n",
       "      <td>5.61</td>\n",
       "      <td>New York</td>\n",
       "      <td>German</td>\n",
       "      <td>116</td>\n",
       "      <td>7523</td>\n",
       "      <td>7</td>\n",
       "      <td>Fashionistas</td>\n",
       "      <td>2021-01-02</td>\n",
       "      <td>35-44</td>\n",
       "      <td>Women</td>\n",
       "    </tr>\n",
       "    <tr>\n",
       "      <th>2</th>\n",
       "      <td>Alpha Innovations</td>\n",
       "      <td>Influencer</td>\n",
       "      <td>30</td>\n",
       "      <td>YouTube</td>\n",
       "      <td>0.07</td>\n",
       "      <td>10200.0</td>\n",
       "      <td>7.18</td>\n",
       "      <td>Los Angeles</td>\n",
       "      <td>French</td>\n",
       "      <td>584</td>\n",
       "      <td>7698</td>\n",
       "      <td>1</td>\n",
       "      <td>Outdoor Adventurers</td>\n",
       "      <td>2021-01-03</td>\n",
       "      <td>25-34</td>\n",
       "      <td>Men</td>\n",
       "    </tr>\n",
       "    <tr>\n",
       "      <th>3</th>\n",
       "      <td>DataTech Solutions</td>\n",
       "      <td>Display</td>\n",
       "      <td>60</td>\n",
       "      <td>YouTube</td>\n",
       "      <td>0.11</td>\n",
       "      <td>12724.0</td>\n",
       "      <td>5.55</td>\n",
       "      <td>Miami</td>\n",
       "      <td>Mandarin</td>\n",
       "      <td>217</td>\n",
       "      <td>1820</td>\n",
       "      <td>7</td>\n",
       "      <td>Health &amp; Wellness</td>\n",
       "      <td>2021-01-04</td>\n",
       "      <td>All Ages</td>\n",
       "      <td>All</td>\n",
       "    </tr>\n",
       "    <tr>\n",
       "      <th>4</th>\n",
       "      <td>NexGen Systems</td>\n",
       "      <td>Email</td>\n",
       "      <td>15</td>\n",
       "      <td>YouTube</td>\n",
       "      <td>0.05</td>\n",
       "      <td>16452.0</td>\n",
       "      <td>6.50</td>\n",
       "      <td>Los Angeles</td>\n",
       "      <td>Mandarin</td>\n",
       "      <td>379</td>\n",
       "      <td>4201</td>\n",
       "      <td>3</td>\n",
       "      <td>Health &amp; Wellness</td>\n",
       "      <td>2021-01-05</td>\n",
       "      <td>25-34</td>\n",
       "      <td>Men</td>\n",
       "    </tr>\n",
       "    <tr>\n",
       "      <th>...</th>\n",
       "      <td>...</td>\n",
       "      <td>...</td>\n",
       "      <td>...</td>\n",
       "      <td>...</td>\n",
       "      <td>...</td>\n",
       "      <td>...</td>\n",
       "      <td>...</td>\n",
       "      <td>...</td>\n",
       "      <td>...</td>\n",
       "      <td>...</td>\n",
       "      <td>...</td>\n",
       "      <td>...</td>\n",
       "      <td>...</td>\n",
       "      <td>...</td>\n",
       "      <td>...</td>\n",
       "      <td>...</td>\n",
       "    </tr>\n",
       "    <tr>\n",
       "      <th>199995</th>\n",
       "      <td>TechCorp</td>\n",
       "      <td>Display</td>\n",
       "      <td>30</td>\n",
       "      <td>Google Ads</td>\n",
       "      <td>0.06</td>\n",
       "      <td>18365.0</td>\n",
       "      <td>2.84</td>\n",
       "      <td>Chicago</td>\n",
       "      <td>German</td>\n",
       "      <td>858</td>\n",
       "      <td>5988</td>\n",
       "      <td>1</td>\n",
       "      <td>Tech Enthusiasts</td>\n",
       "      <td>2021-12-07</td>\n",
       "      <td>All Ages</td>\n",
       "      <td>All</td>\n",
       "    </tr>\n",
       "    <tr>\n",
       "      <th>199996</th>\n",
       "      <td>DataTech Solutions</td>\n",
       "      <td>Email</td>\n",
       "      <td>15</td>\n",
       "      <td>Facebook</td>\n",
       "      <td>0.02</td>\n",
       "      <td>8168.0</td>\n",
       "      <td>4.14</td>\n",
       "      <td>Chicago</td>\n",
       "      <td>Spanish</td>\n",
       "      <td>228</td>\n",
       "      <td>3068</td>\n",
       "      <td>7</td>\n",
       "      <td>Foodies</td>\n",
       "      <td>2021-12-08</td>\n",
       "      <td>25-34</td>\n",
       "      <td>Men</td>\n",
       "    </tr>\n",
       "    <tr>\n",
       "      <th>199997</th>\n",
       "      <td>DataTech Solutions</td>\n",
       "      <td>Social Media</td>\n",
       "      <td>45</td>\n",
       "      <td>Website</td>\n",
       "      <td>0.05</td>\n",
       "      <td>13397.0</td>\n",
       "      <td>3.25</td>\n",
       "      <td>New York</td>\n",
       "      <td>Mandarin</td>\n",
       "      <td>723</td>\n",
       "      <td>9548</td>\n",
       "      <td>3</td>\n",
       "      <td>Tech Enthusiasts</td>\n",
       "      <td>2021-12-09</td>\n",
       "      <td>18-24</td>\n",
       "      <td>Men</td>\n",
       "    </tr>\n",
       "    <tr>\n",
       "      <th>199998</th>\n",
       "      <td>Innovate Industries</td>\n",
       "      <td>Influencer</td>\n",
       "      <td>30</td>\n",
       "      <td>YouTube</td>\n",
       "      <td>0.10</td>\n",
       "      <td>18508.0</td>\n",
       "      <td>3.86</td>\n",
       "      <td>Houston</td>\n",
       "      <td>French</td>\n",
       "      <td>528</td>\n",
       "      <td>2763</td>\n",
       "      <td>1</td>\n",
       "      <td>Foodies</td>\n",
       "      <td>2021-12-10</td>\n",
       "      <td>All Ages</td>\n",
       "      <td>All</td>\n",
       "    </tr>\n",
       "    <tr>\n",
       "      <th>199999</th>\n",
       "      <td>Innovate Industries</td>\n",
       "      <td>Social Media</td>\n",
       "      <td>45</td>\n",
       "      <td>Google Ads</td>\n",
       "      <td>0.01</td>\n",
       "      <td>13835.0</td>\n",
       "      <td>6.64</td>\n",
       "      <td>Chicago</td>\n",
       "      <td>Spanish</td>\n",
       "      <td>924</td>\n",
       "      <td>7287</td>\n",
       "      <td>8</td>\n",
       "      <td>Tech Enthusiasts</td>\n",
       "      <td>2021-12-11</td>\n",
       "      <td>35-44</td>\n",
       "      <td>Women</td>\n",
       "    </tr>\n",
       "  </tbody>\n",
       "</table>\n",
       "<p>200000 rows × 16 columns</p>\n",
       "</div>"
      ],
      "text/plain": [
       "                    Company Campaign_Type Duration_days Channel_Used  \\\n",
       "0       Innovate Industries         Email            30   Google Ads   \n",
       "1            NexGen Systems         Email            60   Google Ads   \n",
       "2         Alpha Innovations    Influencer            30      YouTube   \n",
       "3        DataTech Solutions       Display            60      YouTube   \n",
       "4            NexGen Systems         Email            15      YouTube   \n",
       "...                     ...           ...           ...          ...   \n",
       "199995             TechCorp       Display            30   Google Ads   \n",
       "199996   DataTech Solutions         Email            15     Facebook   \n",
       "199997   DataTech Solutions  Social Media            45      Website   \n",
       "199998  Innovate Industries    Influencer            30      YouTube   \n",
       "199999  Innovate Industries  Social Media            45   Google Ads   \n",
       "\n",
       "        Conversion_Rate  Acquisition_Cost   ROI     Location  Language  \\\n",
       "0                  0.04           16174.0  6.29      Chicago   Spanish   \n",
       "1                  0.12           11566.0  5.61     New York    German   \n",
       "2                  0.07           10200.0  7.18  Los Angeles    French   \n",
       "3                  0.11           12724.0  5.55        Miami  Mandarin   \n",
       "4                  0.05           16452.0  6.50  Los Angeles  Mandarin   \n",
       "...                 ...               ...   ...          ...       ...   \n",
       "199995             0.06           18365.0  2.84      Chicago    German   \n",
       "199996             0.02            8168.0  4.14      Chicago   Spanish   \n",
       "199997             0.05           13397.0  3.25     New York  Mandarin   \n",
       "199998             0.10           18508.0  3.86      Houston    French   \n",
       "199999             0.01           13835.0  6.64      Chicago   Spanish   \n",
       "\n",
       "        Clicks  Impressions  Engagement_Score     Customer_Segment       Date  \\\n",
       "0          506         1922                 6    Health & Wellness 2021-01-01   \n",
       "1          116         7523                 7         Fashionistas 2021-01-02   \n",
       "2          584         7698                 1  Outdoor Adventurers 2021-01-03   \n",
       "3          217         1820                 7    Health & Wellness 2021-01-04   \n",
       "4          379         4201                 3    Health & Wellness 2021-01-05   \n",
       "...        ...          ...               ...                  ...        ...   \n",
       "199995     858         5988                 1     Tech Enthusiasts 2021-12-07   \n",
       "199996     228         3068                 7              Foodies 2021-12-08   \n",
       "199997     723         9548                 3     Tech Enthusiasts 2021-12-09   \n",
       "199998     528         2763                 1              Foodies 2021-12-10   \n",
       "199999     924         7287                 8     Tech Enthusiasts 2021-12-11   \n",
       "\n",
       "       Age_group Gender_cateogry  \n",
       "0          18-24             Men  \n",
       "1          35-44           Women  \n",
       "2          25-34             Men  \n",
       "3       All Ages             All  \n",
       "4          25-34             Men  \n",
       "...          ...             ...  \n",
       "199995  All Ages             All  \n",
       "199996     25-34             Men  \n",
       "199997     18-24             Men  \n",
       "199998  All Ages             All  \n",
       "199999     35-44           Women  \n",
       "\n",
       "[200000 rows x 16 columns]"
      ]
     },
     "execution_count": 192,
     "metadata": {},
     "output_type": "execute_result"
    }
   ],
   "source": [
    "df"
   ]
  }
 ],
 "metadata": {
  "kernelspec": {
   "display_name": "Python 3",
   "language": "python",
   "name": "python3"
  },
  "language_info": {
   "codemirror_mode": {
    "name": "ipython",
    "version": 3
   },
   "file_extension": ".py",
   "mimetype": "text/x-python",
   "name": "python",
   "nbconvert_exporter": "python",
   "pygments_lexer": "ipython3",
   "version": "3.12.0"
  }
 },
 "nbformat": 4,
 "nbformat_minor": 2
}
